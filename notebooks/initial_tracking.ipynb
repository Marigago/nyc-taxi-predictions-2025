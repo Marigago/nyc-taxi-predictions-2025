{
 "cells": [
  {
   "cell_type": "code",
   "execution_count": 3,
   "id": "de77f60d",
   "metadata": {},
   "outputs": [],
   "source": [
    "import pandas as pd\n",
    "from sklearn.feature_extraction import DictVectorizer\n",
    "from sklearn.linear_model import Lasso\n",
    "from sklearn.metrics import root_mean_squared_error\n",
    "\n",
    "def read_dataframe(path):\n",
    "    df = pd.read_parquet(path)\n",
    "    df[\"duration\"] = (df.lpep_dropoff_datetime - df.lpep_pickup_datetime).dt.total_seconds() / 60\n",
    "    df = df[(df.duration >= 1) & (df.duration <= 60)]\n",
    "    df[[\"PULocationID\", \"DOLocationID\"]] = df[[\"PULocationID\", \"DOLocationID\"]].astype(str)\n",
    "    return df\n",
    "\n",
    "df_train = read_dataframe(\"../data/green_tripdata_2025-01.parquet\")\n",
    "df_val = read_dataframe(\"../data/green_tripdata_2025-02.parquet\")\n",
    "\n",
    "df_train[\"PU_DO\"] = df_train[\"PULocationID\"] + \"_\" + df_train[\"DOLocationID\"]\n",
    "df_val[\"PU_DO\"] = df_val[\"PULocationID\"] + \"_\" + df_val[\"DOLocationID\"]\n",
    "\n",
    "categorical = [\"PU_DO\"]\n",
    "numerical = [\"trip_distance\"]\n",
    "\n",
    "dv = DictVectorizer()\n",
    "X_train = dv.fit_transform(df_train[categorical + numerical].to_dict(orient=\"records\"))\n",
    "X_val = dv.transform(df_val[categorical + numerical].to_dict(orient=\"records\"))\n",
    "\n",
    "y_train = df_train[\"duration\"].values\n",
    "y_val = df_val[\"duration\"].values"
   ]
  },
  {
   "cell_type": "code",
   "execution_count": 4,
   "id": "83769b80",
   "metadata": {},
   "outputs": [
    {
     "name": "stderr",
     "output_type": "stream",
     "text": [
      "2025/10/14 21:20:18 INFO mlflow.store.db.utils: Creating initial MLflow database tables...\n",
      "2025/10/14 21:20:18 INFO mlflow.store.db.utils: Updating database tables\n",
      "INFO  [alembic.runtime.migration] Context impl SQLiteImpl.\n",
      "INFO  [alembic.runtime.migration] Will assume non-transactional DDL.\n",
      "INFO  [alembic.runtime.migration] Context impl SQLiteImpl.\n",
      "INFO  [alembic.runtime.migration] Will assume non-transactional DDL.\n",
      "2025/10/14 21:20:18 WARNING mlflow.models.model: `artifact_path` is deprecated. Please use `name` instead.\n",
      "2025/10/14 21:20:19 WARNING mlflow.utils.environment: Failed to resolve installed pip version. ``pip`` will be added to conda.yaml environment spec without a version specifier.\n",
      "\u001b[31m2025/10/14 21:20:19 WARNING mlflow.models.model: Model logged without a signature and input example. Please set `input_example` parameter when logging the model to auto infer the model signature.\u001b[0m\n"
     ]
    },
    {
     "name": "stdout",
     "output_type": "stream",
     "text": [
      "✅ Run finalizado. RMSE = 8.9926\n"
     ]
    }
   ],
   "source": [
    "import mlflow\n",
    "\n",
    "mlflow.set_tracking_uri(\"sqlite:///mlflow.db\")\n",
    "mlflow.set_experiment(\"class-nyc-taxi-experiment\")\n",
    "\n",
    "with mlflow.start_run(run_name=\"lasso_alpha_0.1\"):\n",
    "    alpha = 0.1\n",
    "    mlflow.log_param(\"alpha\", alpha)\n",
    "\n",
    "    model = Lasso(alpha=alpha)\n",
    "    model.fit(X_train, y_train)\n",
    "\n",
    "    y_pred = model.predict(X_val)\n",
    "    rmse = root_mean_squared_error(y_val, y_pred)\n",
    "\n",
    "    mlflow.log_metric(\"rmse\", rmse)\n",
    "    mlflow.sklearn.log_model(model, \"model\")\n",
    "\n",
    "    print(f\"✅ Run finalizado. RMSE = {rmse:.4f}\")"
   ]
  },
  {
   "cell_type": "markdown",
   "id": "3084ee62",
   "metadata": {},
   "source": [
    "## Model registry 2"
   ]
  },
  {
   "cell_type": "code",
   "execution_count": 10,
   "id": "353ca876",
   "metadata": {},
   "outputs": [
    {
     "data": {
      "text/plain": [
       "<Experiment: artifact_location='/Users/msgarcia/Desktop/School/proyecto_2/nyc-taxi-predictions-2025/notebooks/mlruns/2', creation_time=1760498421853, experiment_id='2', last_update_time=1760498421853, lifecycle_stage='active', name='nyc-taxi-model-registry-example', tags={}>"
      ]
     },
     "execution_count": 10,
     "metadata": {},
     "output_type": "execute_result"
    }
   ],
   "source": [
    "from sklearn.ensemble import GradientBoostingRegressor, ExtraTreesRegressor\n",
    "from sklearn.svm import LinearSVR\n",
    "import pickle\n",
    "\n",
    "import mlflow\n",
    "\n",
    "mlflow.set_tracking_uri(\"sqlite:///mlflow.db\")\n",
    "mlflow.set_experiment(experiment_name=\"nyc-taxi-model-registry-example\")"
   ]
  },
  {
   "cell_type": "code",
   "execution_count": 11,
   "id": "b0a7182c",
   "metadata": {},
   "outputs": [],
   "source": [
    "mlflow.sklearn.autolog()\n",
    "training_dataset = mlflow.data.from_numpy(X_train.data, targets=y_train, name=\"green_tripdata_2025-01\")\n",
    "validation_dataset = mlflow.data.from_numpy(X_val.data, targets=y_val, name=\"green_tripdata_2025-02\")"
   ]
  },
  {
   "cell_type": "code",
   "execution_count": 7,
   "id": "c34c2e3f",
   "metadata": {},
   "outputs": [],
   "source": [
    "models = [\n",
    "    \n",
    "    {\"model\": GradientBoostingRegressor,\n",
    "     \"params\": {\"n_estimators\": 100, \"learning_rate\": 0.3, \"max_depth\": 25, \"random_state\": 42},\n",
    "     },\n",
    "    \n",
    "    {\"model\": ExtraTreesRegressor,\n",
    "     \"params\": {\"n_estimators\": 100, \"max_depth\": 15, \"random_state\": 42},\n",
    "     },\n",
    "    \n",
    "    {\"model\": LinearSVR,\n",
    "     \"params\": {\"C\": 1.0, \"epsilon\": 0}, \n",
    "     },\n",
    "\n",
    "]"
   ]
  },
  {
   "cell_type": "code",
   "execution_count": 12,
   "id": "67eb13f9",
   "metadata": {},
   "outputs": [
    {
     "name": "stderr",
     "output_type": "stream",
     "text": [
      "2025/10/14 21:25:24 WARNING mlflow.utils.environment: Failed to resolve installed pip version. ``pip`` will be added to conda.yaml environment spec without a version specifier.\n",
      "2025/10/14 21:25:30 WARNING mlflow.utils.environment: Failed to resolve installed pip version. ``pip`` will be added to conda.yaml environment spec without a version specifier.\n"
     ]
    },
    {
     "name": "stdout",
     "output_type": "stream",
     "text": [
      "mkdir: models: File exists\n"
     ]
    },
    {
     "name": "stderr",
     "output_type": "stream",
     "text": [
      "/Users/msgarcia/Desktop/School/proyecto_2/nyc-taxi-predictions-2025/.venv/lib/python3.11/site-packages/sklearn/svm/_base.py:1250: ConvergenceWarning: Liblinear failed to converge, increase the number of iterations.\n",
      "  warnings.warn(\n",
      "2025/10/14 21:25:32 WARNING mlflow.utils.environment: Failed to resolve installed pip version. ``pip`` will be added to conda.yaml environment spec without a version specifier.\n"
     ]
    },
    {
     "name": "stdout",
     "output_type": "stream",
     "text": [
      "mkdir: models: File exists\n"
     ]
    }
   ],
   "source": [
    "with mlflow.start_run(run_name=\"Nested Runs\"):\n",
    "    for model in models:\n",
    "        \n",
    "        model_class = model[\"model\"]\n",
    "        model_name = model_class.__name__\n",
    "        params = model[\"params\"]\n",
    "        \n",
    "        with mlflow.start_run(run_name=model_name,nested=True):\n",
    "            \n",
    "            ml_model = model_class(**params)\n",
    "           \n",
    "            ml_model.fit(X_train, y_train)\n",
    "    \n",
    "            y_pred = ml_model.predict(X_val)\n",
    "            \n",
    "            rmse = root_mean_squared_error(y_val, y_pred)\n",
    "            mlflow.log_metric(\"rmse\", rmse)\n",
    "            \n",
    "            !mkdir models\n",
    "            with open(\"models/preprocessor.b\", \"wb\") as f_out:\n",
    "                pickle.dump(dv, f_out)\n",
    "                \n",
    "            mlflow.log_artifact(\"models/preprocessor.b\", artifact_path=\"preprocessor\")"
   ]
  },
  {
   "cell_type": "markdown",
   "id": "9665d446",
   "metadata": {},
   "source": [
    "## Registrar modelo \n"
   ]
  },
  {
   "cell_type": "code",
   "execution_count": 13,
   "id": "492dbeeb",
   "metadata": {},
   "outputs": [
    {
     "name": "stderr",
     "output_type": "stream",
     "text": [
      "2025/10/14 21:45:50 WARNING mlflow.utils.environment: Failed to resolve installed pip version. ``pip`` will be added to conda.yaml environment spec without a version specifier.\n",
      "2025/10/14 21:45:50 WARNING mlflow.models.model: `artifact_path` is deprecated. Please use `name` instead.\n",
      "2025/10/14 21:45:50 WARNING mlflow.sklearn: Model was missing function: predict. Not logging python_function flavor!\n",
      "2025/10/14 21:45:51 WARNING mlflow.utils.environment: Failed to resolve installed pip version. ``pip`` will be added to conda.yaml environment spec without a version specifier.\n",
      "\u001b[31m2025/10/14 21:45:51 WARNING mlflow.models.model: Model logged without a signature and input example. Please set `input_example` parameter when logging the model to auto infer the model signature.\u001b[0m\n",
      "2025/10/14 21:45:51 INFO mlflow.store.db.utils: Creating initial MLflow database tables...\n",
      "2025/10/14 21:45:51 INFO mlflow.store.db.utils: Updating database tables\n",
      "INFO  [alembic.runtime.migration] Context impl SQLiteImpl.\n",
      "INFO  [alembic.runtime.migration] Will assume non-transactional DDL.\n",
      "Registered model 'nyc-taxi-model' already exists. Creating a new version of this model...\n",
      "Created version '2' of model 'nyc-taxi-model'.\n"
     ]
    }
   ],
   "source": [
    "from sklearn.ensemble import RandomForestRegressor\n",
    "\n",
    "\n",
    "with mlflow.start_run(run_name=\"RandomForestRegressor\"):\n",
    "    ml_model = RandomForestRegressor(\n",
    "        n_estimators=100,\n",
    "        max_depth=15,\n",
    "        random_state=42\n",
    "    )\n",
    "    \n",
    "    ml_model.fit(X_train, y_train)\n",
    "    \n",
    "    mlflow.sklearn.log_model(\n",
    "        sk_model=model, \n",
    "        artifact_path=\"model\",\n",
    "        registered_model_name=\"nyc-taxi-model\"\n",
    "    )\n",
    "    \n",
    "    y_pred = ml_model.predict(X_val)\n",
    "    \n",
    "    rmse = root_mean_squared_error(y_val, y_pred)\n",
    "    mlflow.log_metric(\"rmse\", rmse)\n",
    "    \n",
    "    # !mkdir models\n",
    "    with open(\"models/preprocessor.b\", \"wb\") as f_out:\n",
    "        pickle.dump(dv, f_out)\n",
    "        \n",
    "    mlflow.log_artifact(\"models/preprocessor.b\", artifact_path=\"preprocessor\")"
   ]
  },
  {
   "cell_type": "markdown",
   "id": "912e4d42",
   "metadata": {},
   "source": [
    "\n",
    "## Metodo 2 para registrar modelo"
   ]
  },
  {
   "cell_type": "code",
   "execution_count": 14,
   "id": "418cf391",
   "metadata": {},
   "outputs": [
    {
     "name": "stderr",
     "output_type": "stream",
     "text": [
      "Registered model 'nyc-taxi-model' already exists. Creating a new version of this model...\n",
      "2025/10/14 21:49:38 WARNING mlflow.tracking._model_registry.fluent: Run with id def09e529c2e4866b5610519fbc1a040 has no artifacts at artifact path 'model', registering model based on models:/m-a1588ccd21c147558ee2111c1133fd2c instead\n",
      "Created version '3' of model 'nyc-taxi-model'.\n"
     ]
    }
   ],
   "source": [
    "run_id = input(\"Ingrese el run_id\")\n",
    "run_uri = f\"runs:/{run_id}/model\"\n",
    "\n",
    "result = mlflow.register_model(\n",
    "    model_uri=run_uri,\n",
    "    name=\"nyc-taxi-model\"\n",
    ")"
   ]
  },
  {
   "cell_type": "markdown",
   "id": "9895bc12",
   "metadata": {},
   "source": []
  }
 ],
 "metadata": {
  "kernelspec": {
   "display_name": "nyc-taxi-predictions-2025",
   "language": "python",
   "name": "python3"
  },
  "language_info": {
   "codemirror_mode": {
    "name": "ipython",
    "version": 3
   },
   "file_extension": ".py",
   "mimetype": "text/x-python",
   "name": "python",
   "nbconvert_exporter": "python",
   "pygments_lexer": "ipython3",
   "version": "3.11.13"
  }
 },
 "nbformat": 4,
 "nbformat_minor": 5
}
