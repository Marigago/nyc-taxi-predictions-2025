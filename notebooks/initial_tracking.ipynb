{
 "cells": [
  {
   "cell_type": "markdown",
   "id": "ee638f3c",
   "metadata": {},
   "source": [
    "mlflow ui --backend-store-uri sqlite:///mlflow.db"
   ]
  },
  {
   "cell_type": "code",
   "execution_count": 9,
   "id": "de77f60d",
   "metadata": {},
   "outputs": [],
   "source": [
    "import pandas as pd\n",
    "from sklearn.feature_extraction import DictVectorizer\n",
    "from sklearn.linear_model import Lasso\n",
    "from sklearn.metrics import root_mean_squared_error\n",
    "\n",
    "def read_dataframe(path):\n",
    "    df = pd.read_parquet(path)\n",
    "    df[\"duration\"] = (df.lpep_dropoff_datetime - df.lpep_pickup_datetime).dt.total_seconds() / 60\n",
    "    df = df[(df.duration >= 1) & (df.duration <= 60)]\n",
    "    df[[\"PULocationID\", \"DOLocationID\"]] = df[[\"PULocationID\", \"DOLocationID\"]].astype(str)\n",
    "    return df\n",
    "\n",
    "df_train = read_dataframe(\"../data/green_tripdata_2025-01.parquet\")\n",
    "df_val = read_dataframe(\"../data/green_tripdata_2025-02.parquet\")\n",
    "\n",
    "df_train[\"PU_DO\"] = df_train[\"PULocationID\"] + \"_\" + df_train[\"DOLocationID\"]\n",
    "df_val[\"PU_DO\"] = df_val[\"PULocationID\"] + \"_\" + df_val[\"DOLocationID\"]\n",
    "\n",
    "categorical = [\"PU_DO\"]\n",
    "numerical = [\"trip_distance\"]\n",
    "\n",
    "dv = DictVectorizer()\n",
    "X_train = dv.fit_transform(df_train[categorical + numerical].to_dict(orient=\"records\"))\n",
    "X_val = dv.transform(df_val[categorical + numerical].to_dict(orient=\"records\"))\n",
    "\n",
    "y_train = df_train[\"duration\"].values\n",
    "y_val = df_val[\"duration\"].values"
   ]
  },
  {
   "cell_type": "code",
   "execution_count": 10,
   "id": "83769b80",
   "metadata": {},
   "outputs": [
    {
     "name": "stderr",
     "output_type": "stream",
     "text": [
      "2025/10/16 20:35:06 WARNING mlflow.utils.environment: Failed to resolve installed pip version. ``pip`` will be added to conda.yaml environment spec without a version specifier.\n",
      "2025/10/16 20:35:07 WARNING mlflow.models.model: `artifact_path` is deprecated. Please use `name` instead.\n",
      "2025/10/16 20:35:08 WARNING mlflow.utils.environment: Failed to resolve installed pip version. ``pip`` will be added to conda.yaml environment spec without a version specifier.\n",
      "\u001b[31m2025/10/16 20:35:08 WARNING mlflow.models.model: Model logged without a signature and input example. Please set `input_example` parameter when logging the model to auto infer the model signature.\u001b[0m\n"
     ]
    },
    {
     "name": "stdout",
     "output_type": "stream",
     "text": [
      "✅ Run finalizado. RMSE = 8.9926\n"
     ]
    }
   ],
   "source": [
    "import mlflow\n",
    "\n",
    "mlflow.set_tracking_uri(\"sqlite:///mlflow.db\")\n",
    "mlflow.set_experiment(\"class-nyc-taxi-experiment\")\n",
    "\n",
    "with mlflow.start_run(run_name=\"lasso_alpha_0.1\"):\n",
    "    alpha = 0.1\n",
    "    mlflow.log_param(\"alpha\", alpha)\n",
    "\n",
    "    model = Lasso(alpha=alpha)\n",
    "    model.fit(X_train, y_train)\n",
    "\n",
    "    y_pred = model.predict(X_val)\n",
    "    rmse = root_mean_squared_error(y_val, y_pred)\n",
    "\n",
    "    mlflow.log_metric(\"rmse\", rmse)\n",
    "    mlflow.sklearn.log_model(model, \"model\")\n",
    "\n",
    "    print(f\"✅ Run finalizado. RMSE = {rmse:.4f}\")"
   ]
  },
  {
   "cell_type": "markdown",
   "id": "3084ee62",
   "metadata": {},
   "source": [
    "## Model registry 2"
   ]
  },
  {
   "cell_type": "code",
   "execution_count": 11,
   "id": "353ca876",
   "metadata": {},
   "outputs": [
    {
     "data": {
      "text/plain": [
       "<Experiment: artifact_location='/Users/msgarcia/Desktop/School/proyecto_2/nyc-taxi-predictions-2025/notebooks/mlruns/2', creation_time=1760498421853, experiment_id='2', last_update_time=1760498421853, lifecycle_stage='active', name='nyc-taxi-model-registry-example', tags={'mlflow.experimentKind': 'custom_model_development'}>"
      ]
     },
     "execution_count": 11,
     "metadata": {},
     "output_type": "execute_result"
    }
   ],
   "source": [
    "from sklearn.ensemble import GradientBoostingRegressor, ExtraTreesRegressor\n",
    "from sklearn.svm import LinearSVR\n",
    "import pickle\n",
    "\n",
    "import mlflow\n",
    "\n",
    "mlflow.set_tracking_uri(\"sqlite:///mlflow.db\")\n",
    "mlflow.set_experiment(experiment_name=\"nyc-taxi-model-registry-example\")"
   ]
  },
  {
   "cell_type": "code",
   "execution_count": 12,
   "id": "b0a7182c",
   "metadata": {},
   "outputs": [],
   "source": [
    "mlflow.sklearn.autolog()\n",
    "training_dataset = mlflow.data.from_numpy(X_train.data, targets=y_train, name=\"green_tripdata_2025-01\")\n",
    "validation_dataset = mlflow.data.from_numpy(X_val.data, targets=y_val, name=\"green_tripdata_2025-02\")"
   ]
  },
  {
   "cell_type": "code",
   "execution_count": 13,
   "id": "c34c2e3f",
   "metadata": {},
   "outputs": [],
   "source": [
    "models = [\n",
    "    \n",
    "    {\"model\": GradientBoostingRegressor,\n",
    "     \"params\": {\"n_estimators\": 100, \"learning_rate\": 0.3, \"max_depth\": 25, \"random_state\": 42},\n",
    "     },\n",
    "    \n",
    "    {\"model\": ExtraTreesRegressor,\n",
    "     \"params\": {\"n_estimators\": 100, \"max_depth\": 15, \"random_state\": 42},\n",
    "     },\n",
    "    \n",
    "    {\"model\": LinearSVR,\n",
    "     \"params\": {\"C\": 1.0, \"epsilon\": 0}, \n",
    "     },\n",
    "\n",
    "]"
   ]
  },
  {
   "cell_type": "code",
   "execution_count": 14,
   "id": "67eb13f9",
   "metadata": {},
   "outputs": [
    {
     "name": "stderr",
     "output_type": "stream",
     "text": [
      "2025/10/16 20:35:17 WARNING mlflow.utils.environment: Failed to resolve installed pip version. ``pip`` will be added to conda.yaml environment spec without a version specifier.\n"
     ]
    },
    {
     "name": "stdout",
     "output_type": "stream",
     "text": [
      "mkdir: models: File exists\n"
     ]
    },
    {
     "name": "stderr",
     "output_type": "stream",
     "text": [
      "2025/10/16 20:35:23 WARNING mlflow.utils.environment: Failed to resolve installed pip version. ``pip`` will be added to conda.yaml environment spec without a version specifier.\n"
     ]
    },
    {
     "name": "stdout",
     "output_type": "stream",
     "text": [
      "mkdir: models: File exists\n"
     ]
    },
    {
     "name": "stderr",
     "output_type": "stream",
     "text": [
      "/Users/msgarcia/Desktop/School/proyecto_2/nyc-taxi-predictions-2025/.venv/lib/python3.11/site-packages/sklearn/svm/_base.py:1250: ConvergenceWarning: Liblinear failed to converge, increase the number of iterations.\n",
      "  warnings.warn(\n",
      "2025/10/16 20:35:26 WARNING mlflow.utils.environment: Failed to resolve installed pip version. ``pip`` will be added to conda.yaml environment spec without a version specifier.\n"
     ]
    },
    {
     "name": "stdout",
     "output_type": "stream",
     "text": [
      "mkdir: models: File exists\n"
     ]
    }
   ],
   "source": [
    "with mlflow.start_run(run_name=\"Nested Runs\"):\n",
    "    for model in models:\n",
    "        \n",
    "        model_class = model[\"model\"]\n",
    "        model_name = model_class.__name__\n",
    "        params = model[\"params\"]\n",
    "        \n",
    "        with mlflow.start_run(run_name=model_name,nested=True):\n",
    "            \n",
    "            ml_model = model_class(**params)\n",
    "           \n",
    "            ml_model.fit(X_train, y_train)\n",
    "    \n",
    "            y_pred = ml_model.predict(X_val)\n",
    "            \n",
    "            rmse = root_mean_squared_error(y_val, y_pred)\n",
    "            mlflow.log_metric(\"rmse\", rmse)\n",
    "            \n",
    "            !mkdir models\n",
    "            with open(\"models/preprocessor.b\", \"wb\") as f_out:\n",
    "                pickle.dump(dv, f_out)\n",
    "                \n",
    "            mlflow.log_artifact(\"models/preprocessor.b\", artifact_path=\"preprocessor\")"
   ]
  },
  {
   "cell_type": "markdown",
   "id": "9665d446",
   "metadata": {},
   "source": [
    "## Registrar modelo \n"
   ]
  },
  {
   "cell_type": "code",
   "execution_count": 15,
   "id": "492dbeeb",
   "metadata": {},
   "outputs": [
    {
     "name": "stderr",
     "output_type": "stream",
     "text": [
      "2025/10/16 20:35:34 WARNING mlflow.utils.environment: Failed to resolve installed pip version. ``pip`` will be added to conda.yaml environment spec without a version specifier.\n",
      "2025/10/16 20:35:35 WARNING mlflow.models.model: `artifact_path` is deprecated. Please use `name` instead.\n",
      "2025/10/16 20:35:35 WARNING mlflow.sklearn: Model was missing function: predict. Not logging python_function flavor!\n",
      "2025/10/16 20:35:36 WARNING mlflow.utils.environment: Failed to resolve installed pip version. ``pip`` will be added to conda.yaml environment spec without a version specifier.\n",
      "\u001b[31m2025/10/16 20:35:36 WARNING mlflow.models.model: Model logged without a signature and input example. Please set `input_example` parameter when logging the model to auto infer the model signature.\u001b[0m\n",
      "Registered model 'nyc-taxi-model' already exists. Creating a new version of this model...\n",
      "Created version '5' of model 'nyc-taxi-model'.\n"
     ]
    }
   ],
   "source": [
    "from sklearn.ensemble import RandomForestRegressor\n",
    "\n",
    "\n",
    "with mlflow.start_run(run_name=\"RandomForestRegressor\"):\n",
    "    ml_model = RandomForestRegressor(\n",
    "        n_estimators=100,\n",
    "        max_depth=15,\n",
    "        random_state=42\n",
    "    )\n",
    "    \n",
    "    ml_model.fit(X_train, y_train)\n",
    "    \n",
    "    mlflow.sklearn.log_model(\n",
    "        sk_model=model, \n",
    "        artifact_path=\"model\",\n",
    "        registered_model_name=\"nyc-taxi-model\"\n",
    "    )\n",
    "    \n",
    "    y_pred = ml_model.predict(X_val)\n",
    "    \n",
    "    rmse = root_mean_squared_error(y_val, y_pred)\n",
    "    mlflow.log_metric(\"rmse\", rmse)\n",
    "    \n",
    "    # !mkdir models\n",
    "    with open(\"models/preprocessor.b\", \"wb\") as f_out:\n",
    "        pickle.dump(dv, f_out)\n",
    "        \n",
    "    mlflow.log_artifact(\"models/preprocessor.b\", artifact_path=\"preprocessor\")"
   ]
  },
  {
   "cell_type": "markdown",
   "id": "912e4d42",
   "metadata": {},
   "source": [
    "\n",
    "## Metodo 2 para registrar modelo"
   ]
  },
  {
   "cell_type": "code",
   "execution_count": 16,
   "id": "418cf391",
   "metadata": {},
   "outputs": [
    {
     "data": {
      "text/plain": [
       "'run_id = input(\"Ingrese el run_id\")\\nrun_uri = f\"runs:/{run_id}/model\"\\n\\nresult = mlflow.register_model(\\n    model_uri=run_uri,\\n    name=\"nyc-taxi-model\"\\n)'"
      ]
     },
     "execution_count": 16,
     "metadata": {},
     "output_type": "execute_result"
    }
   ],
   "source": [
    "\"\"\"run_id = input(\"Ingrese el run_id\")\n",
    "run_uri = f\"runs:/{run_id}/model\"\n",
    "\n",
    "result = mlflow.register_model(\n",
    "    model_uri=run_uri,\n",
    "    name=\"nyc-taxi-model\"\n",
    ")\"\"\""
   ]
  },
  {
   "cell_type": "markdown",
   "id": "6877a95a",
   "metadata": {},
   "source": [
    "## 3 forma de registrar un modelo "
   ]
  },
  {
   "cell_type": "code",
   "execution_count": 17,
   "id": "f4368a6c",
   "metadata": {},
   "outputs": [],
   "source": [
    "from mlflow import MlflowClient\n",
    "\n",
    "client = MlflowClient(tracking_uri=\"sqlite:///mlflow.db\")"
   ]
  },
  {
   "cell_type": "code",
   "execution_count": 19,
   "id": "86cc878f",
   "metadata": {},
   "outputs": [],
   "source": [
    "# client.create_registered_model(name=\"nyc-taxi-model\")\n"
   ]
  },
  {
   "cell_type": "code",
   "execution_count": 20,
   "id": "a80c10ea",
   "metadata": {},
   "outputs": [],
   "source": [
    "run_id = input(\"Ingrese el run_id\")\n",
    "run_uri = f\"runs:/{run_id}/model\"\n",
    "\n",
    "result = client.create_model_version(\n",
    "    name=\"nyc-taxi-model\",\n",
    "    source=run_uri,\n",
    "    run_id=run_id\n",
    ")"
   ]
  },
  {
   "cell_type": "markdown",
   "id": "9b372a6c",
   "metadata": {},
   "source": [
    "## asignar alias"
   ]
  },
  {
   "cell_type": "code",
   "execution_count": 44,
   "id": "634d6687",
   "metadata": {},
   "outputs": [],
   "source": [
    "# create \"champion\" alias for version 1 of model \"example-model\"\n",
    "client.set_registered_model_alias(\n",
    "    name=\"nyc-taxi-model\", \n",
    "    alias=\"champion\",\n",
    "    version=6\n",
    ")\n"
   ]
  },
  {
   "cell_type": "code",
   "execution_count": 45,
   "id": "d91e1502",
   "metadata": {},
   "outputs": [],
   "source": [
    "client.set_registered_model_alias(\n",
    "    name=\"nyc-taxi-model\", \n",
    "    alias=\"challenger\",\n",
    "    version=1\n",
    ")"
   ]
  },
  {
   "cell_type": "code",
   "execution_count": 24,
   "id": "faf35139",
   "metadata": {},
   "outputs": [],
   "source": [
    "# delete the alias\n",
    "client.delete_registered_model_alias(\n",
    "    name=\"nyc-taxi-model\", \n",
    "    alias=\"challenger\"\n",
    ")"
   ]
  },
  {
   "cell_type": "code",
   "execution_count": 27,
   "id": "8778b33a",
   "metadata": {},
   "outputs": [
    {
     "name": "stdout",
     "output_type": "stream",
     "text": [
      "6\n"
     ]
    }
   ],
   "source": [
    "# get a model version by alias\n",
    "print(client.get_model_version_by_alias(\n",
    "    name=\"nyc-taxi-model\",\n",
    "    alias=\"champion\"\n",
    ").version)"
   ]
  },
  {
   "cell_type": "markdown",
   "id": "4285d09b",
   "metadata": {},
   "source": [
    "## Actualizar version del modelo "
   ]
  },
  {
   "cell_type": "code",
   "execution_count": 23,
   "id": "a6977d29",
   "metadata": {},
   "outputs": [
    {
     "data": {
      "text/plain": [
       "<ModelVersion: aliases=[], creation_timestamp=1760668536451, current_stage='None', deployment_job_state=None, description=('This model version is a scikit-learn random forest containing 100 decision '\n",
       " 'trees'), last_updated_timestamp=1760669220172, metrics=None, model_id=None, name='nyc-taxi-model', params=None, run_id='6b2c0b2a086840f8b71ea49c857036f3', run_link=None, source='models:/m-84c8d215009a4e75a48d30943d5fd2c2', status='READY', status_message=None, tags={}, user_id=None, version=5>"
      ]
     },
     "execution_count": 23,
     "metadata": {},
     "output_type": "execute_result"
    }
   ],
   "source": [
    "client.update_model_version(\n",
    "    name=\"nyc-taxi-model\",\n",
    "    version=5,\n",
    "    description=\"This model version is a scikit-learn random forest containing 100 decision trees\",\n",
    ")"
   ]
  },
  {
   "cell_type": "markdown",
   "id": "2a900356",
   "metadata": {},
   "source": [
    "## Obtener version del modelo "
   ]
  },
  {
   "cell_type": "code",
   "execution_count": 36,
   "id": "b1a0fdb7",
   "metadata": {},
   "outputs": [
    {
     "ename": "MlflowException",
     "evalue": "Model does not have the \"python_function\" flavor",
     "output_type": "error",
     "traceback": [
      "\u001b[31m---------------------------------------------------------------------------\u001b[39m",
      "\u001b[31mMlflowException\u001b[39m                           Traceback (most recent call last)",
      "\u001b[36mCell\u001b[39m\u001b[36m \u001b[39m\u001b[32mIn[36]\u001b[39m\u001b[32m, line 8\u001b[39m\n\u001b[32m      4\u001b[39m model_version = \u001b[32m6\u001b[39m\n\u001b[32m      6\u001b[39m model_uri = \u001b[33mf\u001b[39m\u001b[33m\"\u001b[39m\u001b[33mmodels:/\u001b[39m\u001b[38;5;132;01m{\u001b[39;00mmodel_name\u001b[38;5;132;01m}\u001b[39;00m\u001b[33m/\u001b[39m\u001b[38;5;132;01m{\u001b[39;00mmodel_version\u001b[38;5;132;01m}\u001b[39;00m\u001b[33m\"\u001b[39m\n\u001b[32m----> \u001b[39m\u001b[32m8\u001b[39m model = \u001b[43mmlflow\u001b[49m\u001b[43m.\u001b[49m\u001b[43mpyfunc\u001b[49m\u001b[43m.\u001b[49m\u001b[43mload_model\u001b[49m\u001b[43m(\u001b[49m\n\u001b[32m      9\u001b[39m \u001b[43m    \u001b[49m\u001b[43mmodel_uri\u001b[49m\u001b[43m=\u001b[49m\u001b[43mmodel_uri\u001b[49m\u001b[43m,\u001b[49m\n\u001b[32m     10\u001b[39m \u001b[43m)\u001b[49m\n\u001b[32m     12\u001b[39m model.predict(X_val)\n",
      "\u001b[36mFile \u001b[39m\u001b[32m~/Desktop/School/proyecto_2/nyc-taxi-predictions-2025/.venv/lib/python3.11/site-packages/mlflow/tracing/provider.py:508\u001b[39m, in \u001b[36mtrace_disabled.<locals>.wrapper\u001b[39m\u001b[34m(*args, **kwargs)\u001b[39m\n\u001b[32m    506\u001b[39m \u001b[38;5;28;01mtry\u001b[39;00m:\n\u001b[32m    507\u001b[39m     is_func_called = \u001b[38;5;28;01mTrue\u001b[39;00m\n\u001b[32m--> \u001b[39m\u001b[32m508\u001b[39m     result = \u001b[43mf\u001b[49m\u001b[43m(\u001b[49m\u001b[43m*\u001b[49m\u001b[43margs\u001b[49m\u001b[43m,\u001b[49m\u001b[43m \u001b[49m\u001b[43m*\u001b[49m\u001b[43m*\u001b[49m\u001b[43mkwargs\u001b[49m\u001b[43m)\u001b[49m\n\u001b[32m    509\u001b[39m \u001b[38;5;28;01mfinally\u001b[39;00m:\n\u001b[32m    510\u001b[39m     enable()\n",
      "\u001b[36mFile \u001b[39m\u001b[32m~/Desktop/School/proyecto_2/nyc-taxi-predictions-2025/.venv/lib/python3.11/site-packages/mlflow/pyfunc/__init__.py:1151\u001b[39m, in \u001b[36mload_model\u001b[39m\u001b[34m(model_uri, suppress_warnings, dst_path, model_config)\u001b[39m\n\u001b[32m   1149\u001b[39m conf = model_meta.flavors.get(FLAVOR_NAME)\n\u001b[32m   1150\u001b[39m \u001b[38;5;28;01mif\u001b[39;00m conf \u001b[38;5;129;01mis\u001b[39;00m \u001b[38;5;28;01mNone\u001b[39;00m:\n\u001b[32m-> \u001b[39m\u001b[32m1151\u001b[39m     \u001b[38;5;28;01mraise\u001b[39;00m MlflowException(\n\u001b[32m   1152\u001b[39m         \u001b[33mf\u001b[39m\u001b[33m'\u001b[39m\u001b[33mModel does not have the \u001b[39m\u001b[33m\"\u001b[39m\u001b[38;5;132;01m{\u001b[39;00mFLAVOR_NAME\u001b[38;5;132;01m}\u001b[39;00m\u001b[33m\"\u001b[39m\u001b[33m flavor\u001b[39m\u001b[33m'\u001b[39m,\n\u001b[32m   1153\u001b[39m         RESOURCE_DOES_NOT_EXIST,\n\u001b[32m   1154\u001b[39m     )\n\u001b[32m   1155\u001b[39m model_py_version = conf.get(PY_VERSION)\n\u001b[32m   1156\u001b[39m \u001b[38;5;28;01mif\u001b[39;00m \u001b[38;5;129;01mnot\u001b[39;00m suppress_warnings:\n",
      "\u001b[31mMlflowException\u001b[39m: Model does not have the \"python_function\" flavor"
     ]
    }
   ],
   "source": [
    "import mlflow.pyfunc\n",
    "\n",
    "model_name = \"nyc-taxi-model\"\n",
    "model_version = 6\n",
    "\n",
    "model_uri = f\"models:/{model_name}/{model_version}\"\n",
    "\n",
    "model = mlflow.pyfunc.load_model(\n",
    "    model_uri=model_uri,\n",
    ")\n",
    "\n",
    "model.predict(X_val)"
   ]
  },
  {
   "cell_type": "code",
   "execution_count": 34,
   "id": "bb556c5f",
   "metadata": {},
   "outputs": [
    {
     "ename": "AttributeError",
     "evalue": "'dict' object has no attribute 'predict'",
     "output_type": "error",
     "traceback": [
      "\u001b[31m---------------------------------------------------------------------------\u001b[39m",
      "\u001b[31mAttributeError\u001b[39m                            Traceback (most recent call last)",
      "\u001b[36mCell\u001b[39m\u001b[36m \u001b[39m\u001b[32mIn[34]\u001b[39m\u001b[32m, line 12\u001b[39m\n\u001b[32m      6\u001b[39m model_uri = \u001b[33mf\u001b[39m\u001b[33m\"\u001b[39m\u001b[33mmodels:/\u001b[39m\u001b[38;5;132;01m{\u001b[39;00mmodel_name\u001b[38;5;132;01m}\u001b[39;00m\u001b[33m@\u001b[39m\u001b[38;5;132;01m{\u001b[39;00malias\u001b[38;5;132;01m}\u001b[39;00m\u001b[33m\"\u001b[39m\n\u001b[32m      8\u001b[39m champion_version = mlflow.sklearn.load_model(\n\u001b[32m      9\u001b[39m     model_uri=model_uri\n\u001b[32m     10\u001b[39m )\n\u001b[32m---> \u001b[39m\u001b[32m12\u001b[39m \u001b[43mchampion_version\u001b[49m\u001b[43m.\u001b[49m\u001b[43mpredict\u001b[49m(X_val)\n",
      "\u001b[31mAttributeError\u001b[39m: 'dict' object has no attribute 'predict'"
     ]
    }
   ],
   "source": [
    "import mlflow.pyfunc\n",
    "\n",
    "model_name = \"nyc-taxi-model\"\n",
    "alias = \"champion\"\n",
    "\n",
    "model_uri = f\"models:/{model_name}@{alias}\"\n",
    "\n",
    "champion_version = mlflow.sklearn.load_model(\n",
    "    model_uri=model_uri\n",
    ")\n",
    "\n",
    "champion_version.predict(X_val)"
   ]
  },
  {
   "cell_type": "code",
   "execution_count": 53,
   "id": "9a264d15",
   "metadata": {},
   "outputs": [],
   "source": [
    "def read_dataframe(filename):\n",
    "    df = pd.read_parquet(filename)\n",
    "\n",
    "    df.lpep_dropoff_datetime = pd.to_datetime(df.lpep_dropoff_datetime)\n",
    "    df.lpep_pickup_datetime = pd.to_datetime(df.lpep_pickup_datetime)\n",
    "\n",
    "    df['duration'] = df.lpep_dropoff_datetime - df.lpep_pickup_datetime\n",
    "    df.duration = df.duration.apply(lambda td: td.total_seconds() / 60)\n",
    "\n",
    "    df = df[(df.duration >= 1) & (df.duration <= 60)]\n",
    "\n",
    "    categorical = ['PULocationID', 'DOLocationID']\n",
    "    df[categorical] = df[categorical].astype(str)\n",
    "    \n",
    "    return df\n",
    "\n",
    "\n",
    "def preprocess(df, dv):\n",
    "    df['PU_DO'] = df['PULocationID'] + '_' + df['DOLocationID']\n",
    "    categorical = ['PU_DO']\n",
    "    numerical = ['trip_distance']\n",
    "    train_dicts = df[categorical + numerical].to_dict(orient='records')\n",
    "    return dv.transform(train_dicts)\n",
    "\n",
    "\n",
    "def test_model(name, alias, X_test, y_test):\n",
    "    model = mlflow.pyfunc.load_model(f\"models:/{name}@{alias}\")\n",
    "    y_pred = model.predict(X_test)\n",
    "    return {\"rmse\": root_mean_squared_error(y_test, y_pred)}"
   ]
  },
  {
   "cell_type": "code",
   "execution_count": 38,
   "id": "efc814d5",
   "metadata": {},
   "outputs": [],
   "source": [
    "df = read_dataframe(\"../data/green_tripdata_2025-03.parquet\")\n"
   ]
  },
  {
   "cell_type": "code",
   "execution_count": 41,
   "id": "ba4c3780",
   "metadata": {},
   "outputs": [
    {
     "data": {
      "text/plain": [
       "'/Users/msgarcia/Desktop/School/proyecto_2/nyc-taxi-predictions-2025/notebooks/preprocessor'"
      ]
     },
     "execution_count": 41,
     "metadata": {},
     "output_type": "execute_result"
    }
   ],
   "source": [
    "run_id = input(\"Ingrese el run_id\")\n",
    "\n",
    "client.download_artifacts(\n",
    "    run_id=run_id, \n",
    "    path='preprocessor', \n",
    "    dst_path='.'\n",
    ")"
   ]
  },
  {
   "cell_type": "code",
   "execution_count": 42,
   "id": "c6a62c95",
   "metadata": {},
   "outputs": [],
   "source": [
    "import pickle\n",
    "\n",
    "with open(\"preprocessor/preprocessor.b\", \"rb\") as f_in:\n",
    "    dv = pickle.load(f_in)\n",
    "X_test = preprocess(df, dv)"
   ]
  },
  {
   "cell_type": "code",
   "execution_count": 47,
   "id": "22e2ce27",
   "metadata": {},
   "outputs": [],
   "source": [
    "target = \"duration\"\n",
    "y_test = df[target].values\n"
   ]
  },
  {
   "cell_type": "code",
   "execution_count": 62,
   "id": "38acb1b6",
   "metadata": {},
   "outputs": [],
   "source": [
    "client.set_registered_model_alias(\n",
    "    name=\"nyc-taxi-model\", \n",
    "    alias=\"champion\",\n",
    "    version=1\n",
    ")\n",
    "\n",
    "client.set_registered_model_alias(\n",
    "    name=\"nyc-taxi-model\", \n",
    "    alias=\"challenger\",\n",
    "    version=3\n",
    ")"
   ]
  },
  {
   "cell_type": "code",
   "execution_count": 63,
   "id": "e3580eb1",
   "metadata": {},
   "outputs": [
    {
     "name": "stdout",
     "output_type": "stream",
     "text": [
      "CPU times: user 550 ms, sys: 7.33 ms, total: 558 ms\n",
      "Wall time: 562 ms\n",
      "CPU times: user 14.5 ms, sys: 1.4 ms, total: 15.9 ms\n",
      "Wall time: 17.5 ms\n"
     ]
    },
    {
     "data": {
      "text/plain": [
       "{'rmse': 538.963705186277}"
      ]
     },
     "execution_count": 63,
     "metadata": {},
     "output_type": "execute_result"
    }
   ],
   "source": [
    "%time test_model(name=\"nyc-taxi-model\", alias=\"champion\", X_test=X_test, y_test=y_test)\n",
    "%time test_model(name=model_name, alias=\"challenger\", X_test=X_test, y_test=y_test)\n",
    "\n"
   ]
  },
  {
   "cell_type": "code",
   "execution_count": null,
   "id": "d0fb322b",
   "metadata": {},
   "outputs": [],
   "source": []
  }
 ],
 "metadata": {
  "kernelspec": {
   "display_name": "nyc-taxi-predictions-2025",
   "language": "python",
   "name": "python3"
  },
  "language_info": {
   "codemirror_mode": {
    "name": "ipython",
    "version": 3
   },
   "file_extension": ".py",
   "mimetype": "text/x-python",
   "name": "python",
   "nbconvert_exporter": "python",
   "pygments_lexer": "ipython3",
   "version": "3.11.13"
  }
 },
 "nbformat": 4,
 "nbformat_minor": 5
}
