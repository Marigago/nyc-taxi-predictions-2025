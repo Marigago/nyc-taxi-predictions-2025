{
 "cells": [
  {
   "cell_type": "markdown",
   "id": "644dbaca",
   "metadata": {},
   "source": [
    "### Imports"
   ]
  },
  {
   "cell_type": "code",
   "execution_count": null,
   "id": "7db333b5",
   "metadata": {},
   "outputs": [],
   "source": [
    "import os, mlflow\n",
    "from dotenv import load_dotenv\n",
    "import pathlib, time, requests\n",
    "from sklearn.feature_extraction import DictVectorizer\n",
    "from sklearn.metrics import root_mean_squared_error\n",
    "import numpy as np\n",
    "from sklearn.ensemble import GradientBoostingRegressor\n",
    "from mlflow.models.signature import infer_signature\n",
    "from sklearn.ensemble import RandomForestRegressor\n",
    "import pandas as pd, pickle, pathlib\n",
    "from mlflow import MlflowClient\n",
    "from datetime import datetime\n",
    "import mlflow.pyfunc\n",
    "import pickle"
   ]
  },
  {
   "cell_type": "markdown",
   "id": "552d3c1a",
   "metadata": {},
   "source": [
    "### Crear un nuevo jupyter-notebook llamado challenger-experiments.ipynb en la rama creada anteriormente"
   ]
  },
  {
   "cell_type": "code",
   "execution_count": null,
   "id": "7837e11a",
   "metadata": {},
   "outputs": [
    {
     "name": "stdout",
     "output_type": "stream",
     "text": [
      "Tracking URI: databricks\n",
      "Experiment: <Experiment: artifact_location='dbfs:/databricks/mlflow-tracking/1544369421830463', creation_time=1761101032420, experiment_id='1544369421830463', last_update_time=1761619147784, lifecycle_stage='active', name='/Users/marianasgg19@gmail.com/nyc-taxi-experiments', tags={'mlflow.experiment.sourceName': '/Users/marianasgg19@gmail.com/nyc-taxi-experiments',\n",
      " 'mlflow.experimentType': 'MLFLOW_EXPERIMENT',\n",
      " 'mlflow.ownerEmail': 'marianasgg19@gmail.com',\n",
      " 'mlflow.ownerId': '76345526162318'}>\n"
     ]
    }
   ],
   "source": [
    "# --- Preparación de entorno y experimento MLflow, Tarea P2 ---\n",
    "load_dotenv(override=True)\n",
    "EXPERIMENT_NAME = \"/Users/marianasgg19@gmail.com/nyc-taxi-experiments\"  \n",
    "\n",
    "# Acrónimos:\n",
    "HW_PREFIX = \"P2-F-\"                 # Proyecto/Tarea 2\n",
    "HW_TAG_PROJECT = \"Tarea_P2\"      # tag \n",
    "HW_TAG_PURPOSE = \"challenger_selection\"\n",
    "\n",
    "mlflow.set_tracking_uri(\"databricks\")\n",
    "experiment = mlflow.set_experiment(experiment_name=EXPERIMENT_NAME)\n",
    "\n",
    "print(\"Tracking URI:\", mlflow.get_tracking_uri())\n",
    "print(\"Experiment:\", experiment)\n"
   ]
  },
  {
   "cell_type": "markdown",
   "id": "2682a6a2",
   "metadata": {},
   "source": [
    "### Descargue en la carpeta data el conjunto de datos correspondiente a marzo del 2025"
   ]
  },
  {
   "cell_type": "code",
   "execution_count": null,
   "id": "ed01d935",
   "metadata": {},
   "outputs": [
    {
     "name": "stdout",
     "output_type": "stream",
     "text": [
      "Archivo ya existe: ../data/green_tripdata_2025-03.parquet\n"
     ]
    }
   ],
   "source": [
    "# --- Descargar de marzo 2025 a la carpeta data ---\n",
    "DATA_DIR = pathlib.Path(\"../data\")\n",
    "DATA_DIR.mkdir(parents=True, exist_ok=True)\n",
    "fname = DATA_DIR / \"green_tripdata_2025-03.parquet\"\n",
    "url = \"https://d37ci6vzurychx.cloudfront.net/trip-data/green_tripdata_2025-03.parquet\"\n",
    "\n",
    "# Descargar o mostrar que ya fue descargado o que no se pudo \n",
    "if not fname.exists():\n",
    "    for attempt in range(3):\n",
    "        try:\n",
    "            print(f\"Descargando {url} -> {fname} (intento {attempt+1})\")\n",
    "            r = requests.get(url, timeout=60); r.raise_for_status()\n",
    "            fname.write_bytes(r.content)\n",
    "            print(\"Descarga completa.\")\n",
    "            break\n",
    "        except Exception as e:\n",
    "            print(\"Fallo:\", e); time.sleep(2)\n",
    "    else:\n",
    "        raise RuntimeError(\"No se pudo descargar el archivo después de 3 intentos.\")\n",
    "else:\n",
    "    print(\"Archivo ya existe:\", fname)\n"
   ]
  },
  {
   "cell_type": "markdown",
   "id": "a00c11ca",
   "metadata": {},
   "source": [
    "### Base de preparación de datos para entrenar/validar y reusar en pruebas"
   ]
  },
  {
   "cell_type": "code",
   "execution_count": null,
   "id": "cfb4ba9f",
   "metadata": {},
   "outputs": [
    {
     "data": {
      "text/plain": [
       "((46307, 4159), (44218, 4159))"
      ]
     },
     "execution_count": 16,
     "metadata": {},
     "output_type": "execute_result"
    }
   ],
   "source": [
    "# --- Carga, limpieza y vectorización base (enero y febrero) ---\n",
    "def read_dataframe(filename):\n",
    "    df = pd.read_parquet(filename)\n",
    "    df['duration'] = df.lpep_dropoff_datetime - df.lpep_pickup_datetime\n",
    "    df.duration = df.duration.apply(lambda td: td.total_seconds() / 60)\n",
    "    df = df[(df.duration >= 1) & (df.duration <= 60)]\n",
    "    categorical = ['PULocationID', 'DOLocationID']\n",
    "    df[categorical] = df[categorical].astype(str)\n",
    "    return df\n",
    "\n",
    "df_train = read_dataframe('../data/green_tripdata_2025-01.parquet')\n",
    "df_val   = read_dataframe('../data/green_tripdata_2025-02.parquet')\n",
    "\n",
    "def preprocess(df, dv):\n",
    "    df = df.copy()\n",
    "    df['PU_DO'] = df['PULocationID'] + '_' + df['DOLocationID']\n",
    "    categorical = ['PU_DO']; numerical = ['trip_distance']\n",
    "    records = df[categorical + numerical].to_dict(orient='records')\n",
    "    return dv.transform(records)\n",
    "\n",
    "dv = DictVectorizer()\n",
    "df_train = df_train.copy()\n",
    "df_train['PU_DO'] = df_train['PULocationID'] + '_' + df_train['DOLocationID']\n",
    "X_train = dv.fit_transform(df_train[['PU_DO','trip_distance']].to_dict(orient='records'))\n",
    "\n",
    "X_val = preprocess(df_val, dv)\n",
    "\n",
    "#target\n",
    "target = 'duration'\n",
    "y_train = df_train[target].values\n",
    "y_val   = df_val[target].values\n",
    "\n",
    "# Log opcional de datasets (como en tu base):\n",
    "training_dataset   = mlflow.data.from_numpy(getattr(X_train, \"data\", X_train), targets=y_train, name=\"green_tripdata_2025-01\")\n",
    "validation_dataset = mlflow.data.from_numpy(getattr(X_val, \"data\", X_val), targets=y_val, name=\"green_tripdata_2025-02\")\n",
    "\n",
    "X_train.shape, X_val.shape\n"
   ]
  },
  {
   "cell_type": "markdown",
   "id": "ea300d45",
   "metadata": {},
   "source": [
    "### — Parent #1 Gradient Boost con child experiments"
   ]
  },
  {
   "cell_type": "code",
   "execution_count": null,
   "id": "d1fd3763",
   "metadata": {},
   "outputs": [
    {
     "name": "stderr",
     "output_type": "stream",
     "text": [
      "2025/10/27 20:40:33 WARNING mlflow.utils.environment: Failed to resolve installed pip version. ``pip`` will be added to conda.yaml environment spec without a version specifier.\n"
     ]
    },
    {
     "name": "stdout",
     "output_type": "stream",
     "text": [
      "🏃 View run P2-F-_GBR_TRIAL_1 at: https://dbc-5922e233-b716.cloud.databricks.com/ml/experiments/1544369421830463/runs/cb8319190e084183b3ebf284f9003b34\n",
      "🧪 View experiment at: https://dbc-5922e233-b716.cloud.databricks.com/ml/experiments/1544369421830463\n"
     ]
    },
    {
     "name": "stderr",
     "output_type": "stream",
     "text": [
      "2025/10/27 20:40:48 WARNING mlflow.utils.environment: Failed to resolve installed pip version. ``pip`` will be added to conda.yaml environment spec without a version specifier.\n"
     ]
    },
    {
     "name": "stdout",
     "output_type": "stream",
     "text": [
      "🏃 View run P2-F-_GBR_TRIAL_2 at: https://dbc-5922e233-b716.cloud.databricks.com/ml/experiments/1544369421830463/runs/499c087bdcdb4be48f6643d787e600ef\n",
      "🧪 View experiment at: https://dbc-5922e233-b716.cloud.databricks.com/ml/experiments/1544369421830463\n"
     ]
    },
    {
     "name": "stderr",
     "output_type": "stream",
     "text": [
      "2025/10/27 20:41:16 WARNING mlflow.utils.environment: Failed to resolve installed pip version. ``pip`` will be added to conda.yaml environment spec without a version specifier.\n"
     ]
    },
    {
     "name": "stdout",
     "output_type": "stream",
     "text": [
      "🏃 View run P2-F-_GBR_TRIAL_3 at: https://dbc-5922e233-b716.cloud.databricks.com/ml/experiments/1544369421830463/runs/c6b02fe468ff45c5b57daceb6f0a5c66\n",
      "🧪 View experiment at: https://dbc-5922e233-b716.cloud.databricks.com/ml/experiments/1544369421830463\n",
      "🏃 View run P2-F-_GBR_PARENT at: https://dbc-5922e233-b716.cloud.databricks.com/ml/experiments/1544369421830463/runs/af0c469c1060459c82f856b5232a297b\n",
      "🧪 View experiment at: https://dbc-5922e233-b716.cloud.databricks.com/ml/experiments/1544369421830463\n"
     ]
    },
    {
     "data": {
      "text/plain": [
       "(5.645491587871815,\n",
       " {'n_estimators': 148,\n",
       "  'learning_rate': 0.26522386218030747,\n",
       "  'max_depth': 4,\n",
       "  'subsample': 0.9577183631255183,\n",
       "  'min_samples_leaf': 16,\n",
       "  'n_iter_no_change': 10,\n",
       "  'validation_fraction': 0.1,\n",
       "  'tol': 0.001,\n",
       "  'random_state': 42})"
      ]
     },
     "execution_count": 17,
     "metadata": {},
     "output_type": "execute_result"
    }
   ],
   "source": [
    "# --- Parent #1: GradientBoostingRegressor con child experiments ---\n",
    "\n",
    "# - 3 trials, espacio de hiperparámetros pequeño, subset para acelerar.\n",
    "\n",
    "np.random.seed(42)\n",
    "\n",
    "# 1) Preparamos DataFrames con nombres de columnas \n",
    "feature_names = [f\"f{i}\" for i in range(X_train.shape[1])]\n",
    "X_train_df = pd.DataFrame(X_train.toarray().astype(\"float32\"), columns=feature_names)\n",
    "X_val_df   = pd.DataFrame(X_val.toarray().astype(\"float32\"),   columns=feature_names)\n",
    "\n",
    "# 2) Subset para la búsqueda (rápido)\n",
    "N = X_train_df.shape[0]\n",
    "subset_size = min(10000, N)   # reduce para más velocidad\n",
    "subset_idx = np.random.choice(N, size=subset_size, replace=False)\n",
    "X_train_sub_df = X_train_df.iloc[subset_idx].reset_index(drop=True)\n",
    "y_train_sub    = y_train[subset_idx]\n",
    "\n",
    "def sample_gbr_params():\n",
    "    # Espacio chico \n",
    "    return {\n",
    "        \"n_estimators\": int(np.random.randint(60, 151)),      # 60-150\n",
    "        \"learning_rate\": float(np.random.uniform(0.05, 0.30)),# 0.05-0.30\n",
    "        \"max_depth\": int(np.random.randint(2, 7)),            # 2-6\n",
    "        \"subsample\": float(np.random.uniform(0.7, 1.0)),      # 0.7-1.0\n",
    "        \"min_samples_leaf\": int(np.random.randint(10, 41)),   # 10-40\n",
    "        \"n_iter_no_change\": 10,\n",
    "        \"validation_fraction\": 0.1,\n",
    "        \"tol\": 1e-3,\n",
    "        \"random_state\": 42\n",
    "    }\n",
    "\n",
    "parent_run_name = f\"{HW_PREFIX}_GBR_PARENT\"\n",
    "best_gbr = None\n",
    "best_gbr_rmse = float(\"inf\")\n",
    "best_gbr_params = None\n",
    "\n",
    "TRIALS = 3  # pocos trials para rapidez\n",
    "with mlflow.start_run(run_name=parent_run_name):\n",
    "    mlflow.set_tags({\n",
    "        \"model_family\": \"GradientBoostingRegressor\",\n",
    "        \"assignment\": HW_TAG_PROJECT,\n",
    "        \"purpose\": HW_TAG_PURPOSE,\n",
    "        \"parent\": \"true\",\n",
    "        \"acronym\": f\"{HW_PREFIX}_GBR\",\n",
    "        \"fast_mode\": \"simple_params_subset_es\"\n",
    "    })\n",
    "    mlflow.log_dict({\"search\": \"random_small\", \"trials\": TRIALS, \"subset_size\": int(subset_size)}, \"search_meta.json\")\n",
    "\n",
    "    for t in range(TRIALS):  # child experiments\n",
    "        trial_run_name = f\"{HW_PREFIX}_GBR_TRIAL_{t+1}\"\n",
    "        params = sample_gbr_params()\n",
    "\n",
    "        with mlflow.start_run(run_name=trial_run_name, nested=True):\n",
    "            mlflow.log_params(params)\n",
    "\n",
    "            model = GradientBoostingRegressor(**params)\n",
    "            model.fit(X_train_sub_df, y_train_sub)\n",
    "\n",
    "            # Validación en febrero con el mismo esquema de columnas\n",
    "            y_pred = model.predict(X_val_df)\n",
    "            rmse = root_mean_squared_error(y_val, y_pred)\n",
    "            mlflow.log_metric(\"validation_rmse\", rmse)\n",
    "\n",
    "            # Firma + logging del modelo \n",
    "            input_example = X_val_df.iloc[:5].copy()\n",
    "            signature = infer_signature(input_example, y_pred[:5])\n",
    "\n",
    "            mlflow.sklearn.log_model(\n",
    "                sk_model=model,\n",
    "                name=\"model\",                 # artifact_path\n",
    "                input_example=input_example,\n",
    "                signature=signature\n",
    "            )\n",
    "\n",
    "            if rmse < best_gbr_rmse:\n",
    "                best_gbr_rmse = rmse\n",
    "                best_gbr = model\n",
    "                best_gbr_params = params\n",
    "\n",
    "    mlflow.log_metric(\"best_validation_rmse\", best_gbr_rmse)\n",
    "    mlflow.log_dict({\"best_params\": best_gbr_params}, \"best_params.json\")\n",
    "\n",
    "best_gbr_rmse, best_gbr_params\n"
   ]
  },
  {
   "cell_type": "markdown",
   "id": "7ef1344c",
   "metadata": {},
   "source": [
    "### — Parent #2 Random Forest con child experiments"
   ]
  },
  {
   "cell_type": "code",
   "execution_count": null,
   "id": "7b88125e",
   "metadata": {},
   "outputs": [
    {
     "name": "stderr",
     "output_type": "stream",
     "text": [
      "2025/10/27 20:41:26 WARNING mlflow.utils.environment: Failed to resolve installed pip version. ``pip`` will be added to conda.yaml environment spec without a version specifier.\n"
     ]
    },
    {
     "name": "stdout",
     "output_type": "stream",
     "text": [
      "🏃 View run P2-F-_RF_TRIAL_1 at: https://dbc-5922e233-b716.cloud.databricks.com/ml/experiments/1544369421830463/runs/7e94d43782354a66b4d1af2ae1c28b4b\n",
      "🧪 View experiment at: https://dbc-5922e233-b716.cloud.databricks.com/ml/experiments/1544369421830463\n"
     ]
    },
    {
     "name": "stderr",
     "output_type": "stream",
     "text": [
      "2025/10/27 20:41:33 WARNING mlflow.utils.environment: Failed to resolve installed pip version. ``pip`` will be added to conda.yaml environment spec without a version specifier.\n"
     ]
    },
    {
     "name": "stdout",
     "output_type": "stream",
     "text": [
      "🏃 View run P2-F-_RF_TRIAL_2 at: https://dbc-5922e233-b716.cloud.databricks.com/ml/experiments/1544369421830463/runs/41c63019b5324852b60effd1138cafb4\n",
      "🧪 View experiment at: https://dbc-5922e233-b716.cloud.databricks.com/ml/experiments/1544369421830463\n",
      "🏃 View run P2-F-_RF_PARENT at: https://dbc-5922e233-b716.cloud.databricks.com/ml/experiments/1544369421830463/runs/45e2839eb759442c80a83ca695bdefb1\n",
      "🧪 View experiment at: https://dbc-5922e233-b716.cloud.databricks.com/ml/experiments/1544369421830463\n"
     ]
    },
    {
     "data": {
      "text/plain": [
       "(8.416632801578565,\n",
       " {'n_estimators': 102,\n",
       "  'max_depth': 11,\n",
       "  'min_samples_split': 4,\n",
       "  'min_samples_leaf': 16,\n",
       "  'max_features': 'sqrt',\n",
       "  'bootstrap': False,\n",
       "  'random_state': 42,\n",
       "  'n_jobs': -1})"
      ]
     },
     "execution_count": 18,
     "metadata": {},
     "output_type": "execute_result"
    }
   ],
   "source": [
    "# --- Parent #2: RandomForestRegressor con child experiments ---\n",
    "\n",
    "# - 2 trials\n",
    "# - n_jobs = -1 para paralelizar\n",
    "\n",
    "np.random.seed(42)\n",
    "\n",
    "# Aseguramos DataFrames con nombres de columnas \n",
    "if \"X_train_df\" not in globals() or \"X_val_df\" not in globals():\n",
    "    feature_names = [f\"f{i}\" for i in range(X_train.shape[1])]\n",
    "    X_train_df = pd.DataFrame(X_train.toarray().astype(\"float32\"), columns=feature_names)\n",
    "    X_val_df   = pd.DataFrame(X_val.toarray().astype(\"float32\"),   columns=feature_names)\n",
    "\n",
    "# Subset para acelerar la búsqueda\n",
    "N = X_train_df.shape[0]\n",
    "subset_size = min(20000, N)   \n",
    "subset_idx = np.random.choice(N, size=subset_size, replace=False)\n",
    "X_train_sub_df = X_train_df.iloc[subset_idx].reset_index(drop=True)\n",
    "y_train_sub    = y_train[subset_idx]\n",
    "\n",
    "def sample_rf_params():\n",
    "    # Rango pequeño y rápido\n",
    "    return {\n",
    "        \"n_estimators\": int(np.random.randint(50, 121)),     # 50-120 árboles\n",
    "        \"max_depth\": int(np.random.randint(8, 17)),          # 8-16\n",
    "        \"min_samples_split\": int(np.random.randint(2, 6)),   # 2-5\n",
    "        \"min_samples_leaf\": int(np.random.randint(5, 21)),   # 5-20\n",
    "        \"max_features\": \"sqrt\",                               # rápido y estándar\n",
    "        \"bootstrap\": False,                                   # Mas veloz\n",
    "        \"random_state\": 42,\n",
    "        \"n_jobs\": -1\n",
    "    }\n",
    "\n",
    "parent_run_name = f\"{HW_PREFIX}_RF_PARENT\"  \n",
    "best_rf_rmse = float(\"inf\")\n",
    "best_rf_params = None\n",
    "\n",
    "TRIALS = 2  \n",
    "with mlflow.start_run(run_name=parent_run_name):\n",
    "    mlflow.set_tags({\n",
    "        \"model_family\": \"RandomForestRegressor\",\n",
    "        \"assignment\": HW_TAG_PROJECT,\n",
    "        \"purpose\": HW_TAG_PURPOSE,\n",
    "        \"parent\": \"true\",\n",
    "        \"acronym\": f\"{HW_PREFIX}_RF\",\n",
    "        \"fast_mode\": \"simple_params_subset_parallel\"\n",
    "    })\n",
    "    mlflow.log_dict({\"search\": \"random_small\", \"trials\": TRIALS, \"subset_size\": int(subset_size)}, \"search_meta.json\")\n",
    "\n",
    "    for t in range(TRIALS):\n",
    "        trial_run_name = f\"{HW_PREFIX}_RF_TRIAL_{t+1}\"\n",
    "        params = sample_rf_params()\n",
    "\n",
    "        with mlflow.start_run(run_name=trial_run_name, nested=True):\n",
    "            mlflow.log_params(params)\n",
    "\n",
    "            model = RandomForestRegressor(**params)\n",
    "            model.fit(X_train_sub_df, y_train_sub)\n",
    "\n",
    "            y_pred = model.predict(X_val_df)\n",
    "            rmse = root_mean_squared_error(y_val, y_pred)\n",
    "            mlflow.log_metric(\"validation_rmse\", rmse)\n",
    "\n",
    "            input_example = X_val_df.iloc[:5].copy()\n",
    "            signature = infer_signature(input_example, y_pred[:5])\n",
    "\n",
    "            mlflow.sklearn.log_model(\n",
    "                sk_model=model,\n",
    "                name=\"model\",\n",
    "                input_example=input_example,\n",
    "                signature=signature\n",
    "            )\n",
    "\n",
    "            if rmse < best_rf_rmse:\n",
    "                best_rf_rmse = rmse\n",
    "                best_rf = model\n",
    "                best_rf_params = params\n",
    "\n",
    "    mlflow.log_metric(\"best_validation_rmse\", best_rf_rmse)\n",
    "    mlflow.log_dict({\"best_params\": best_rf_params}, \"best_params.json\")\n",
    "\n",
    "best_rf_rmse, best_rf_params\n"
   ]
  },
  {
   "cell_type": "markdown",
   "id": "898f8dc2",
   "metadata": {},
   "source": [
    "### Registrar el mejor en nyc-taxi-model y asignar alias challenger con acrónimos visibles"
   ]
  },
  {
   "cell_type": "code",
   "execution_count": null,
   "id": "45473d5a",
   "metadata": {},
   "outputs": [
    {
     "name": "stdout",
     "output_type": "stream",
     "text": [
      "Mejor familia: GradientBoostingRegressor | RMSE(val)=5.6455\n"
     ]
    },
    {
     "name": "stderr",
     "output_type": "stream",
     "text": [
      "/Users/msgarcia/Desktop/School/proyecto_2/nyc-taxi-predictions-2025/.venv/lib/python3.11/site-packages/sklearn/utils/validation.py:2749: UserWarning: X does not have valid feature names, but GradientBoostingRegressor was fitted with feature names\n",
      "  warnings.warn(\n",
      "2025/10/27 20:41:38 WARNING mlflow.models.model: `artifact_path` is deprecated. Please use `name` instead.\n",
      "2025/10/27 20:41:41 WARNING mlflow.utils.environment: Failed to resolve installed pip version. ``pip`` will be added to conda.yaml environment spec without a version specifier.\n"
     ]
    },
    {
     "name": "stdout",
     "output_type": "stream",
     "text": [
      "🏃 View run P2-F-_CHALLENGER_REG_GradientBoostingRegressor at: https://dbc-5922e233-b716.cloud.databricks.com/ml/experiments/1544369421830463/runs/69c27115d86c41109c44e9d7f9bb5e57\n",
      "🧪 View experiment at: https://dbc-5922e233-b716.cloud.databricks.com/ml/experiments/1544369421830463\n"
     ]
    },
    {
     "name": "stderr",
     "output_type": "stream",
     "text": [
      "Registered model 'workspace.default.nyc-taxi-model' already exists. Creating a new version of this model...\n",
      "2025/10/27 20:41:44 WARNING mlflow.tracking._model_registry.fluent: Run with id 69c27115d86c41109c44e9d7f9bb5e57 has no artifacts at artifact path 'model', registering model based on models:/m-0365560caa9a48dab292b6a348348878 instead\n",
      "Downloading artifacts: 100%|██████████| 7/7 [00:00<00:00,  9.76it/s]\n",
      "Uploading artifacts: 100%|██████████| 8/8 [00:03<00:00,  2.40it/s]\n",
      "Created version '11' of model 'workspace.default.nyc-taxi-model'.\n"
     ]
    },
    {
     "name": "stdout",
     "output_type": "stream",
     "text": [
      "Registrado como versión 11 con alias 'challenger' (P2-F-_GBR_CHAL).\n"
     ]
    }
   ],
   "source": [
    "# --- Selección del mejor + registro como CHALLENGER Tarea P2 ---\n",
    "\n",
    "if best_gbr_rmse <= best_rf_rmse:\n",
    "    best_model = best_gbr; family = \"GradientBoostingRegressor\"\n",
    "    best_rmse = best_gbr_rmse; best_params = best_gbr_params\n",
    "    best_acronym = f\"{HW_PREFIX}_GBR\"\n",
    "else:\n",
    "    best_model = best_rf; family = \"RandomForestRegressor\"\n",
    "    best_rmse = best_rf_rmse; best_params = best_rf_params\n",
    "    best_acronym = f\"{HW_PREFIX}_RF\"\n",
    "\n",
    "print(f\"Mejor familia: {family} | RMSE(val)={best_rmse:.4f}\")\n",
    "\n",
    "# Guardar preprocesador\n",
    "pathlib.Path(\"preprocessor\").mkdir(exist_ok=True)\n",
    "with open(\"preprocessor/dv.pkl\", \"wb\") as f_out:\n",
    "    pickle.dump(dv, f_out)\n",
    "\n",
    "feature_names = [f\"f{i}\" for i in range(X_val.shape[1])]\n",
    "input_example = pd.DataFrame(X_val[:5].toarray(), columns=feature_names)\n",
    "signature = infer_signature(input_example, best_model.predict(X_val[:5].toarray()))\n",
    "\n",
    "model_name = \"workspace.default.nyc-taxi-model\"\n",
    "\n",
    "# Run explícito con nombres/tags de la tarea\n",
    "run_name = f\"{HW_PREFIX}_CHALLENGER_REG_{family}\"\n",
    "with mlflow.start_run(run_name=run_name):\n",
    "    mlflow.set_tags({\n",
    "        \"assignment\": HW_TAG_PROJECT,\n",
    "        \"purpose\": HW_TAG_PURPOSE,\n",
    "        \"role\": \"challenger_candidate\",\n",
    "        \"model_family\": family,\n",
    "        \"acronym\": f\"{best_acronym}_CHAL\",   \n",
    "    })\n",
    "    mlflow.log_metric(\"validation_rmse\", best_rmse)\n",
    "    mlflow.log_dict({\"best_params\": best_params}, \"best_params.json\")\n",
    "    mlflow.log_artifact(\"preprocessor/dv.pkl\", artifact_path=\"preprocessor\")\n",
    "\n",
    "    mlflow.sklearn.log_model(\n",
    "        best_model,\n",
    "        artifact_path=\"model\",\n",
    "        input_example=input_example,\n",
    "        signature=signature\n",
    "    )\n",
    "    run_id = mlflow.active_run().info.run_id\n",
    "\n",
    "# Registro en el Model Registry\n",
    "result = mlflow.register_model(model_uri=f\"runs:/{run_id}/model\", name=model_name)\n",
    "\n",
    "client = MlflowClient()\n",
    "model_version = result.version\n",
    "\n",
    "# Alias \"challenger\"\n",
    "client.set_registered_model_alias(\n",
    "    name=model_name,\n",
    "    alias=\"challenger\",\n",
    "    version=model_version\n",
    ")\n",
    "\n",
    "client.update_model_version(\n",
    "    name=model_name,\n",
    "    version=model_version,\n",
    "    description=f\"[{HW_PREFIX}_CHAL] {family} registrado el {datetime.today().isoformat(timespec='seconds')} | RMSE(val)={best_rmse:.4f}\"\n",
    ")\n",
    "\n",
    "print(f\"Registrado como versión {model_version} con alias 'challenger' ({best_acronym}_CHAL).\")\n"
   ]
  },
  {
   "cell_type": "markdown",
   "id": "d5b01fab",
   "metadata": {},
   "source": [
    "### Usar marzo 2025 para probar Champion vs Challenger y obtener métricas"
   ]
  },
  {
   "cell_type": "code",
   "execution_count": null,
   "id": "1482f94a",
   "metadata": {},
   "outputs": [
    {
     "name": "stderr",
     "output_type": "stream",
     "text": [
      "Downloading artifacts: 100%|██████████| 8/8 [00:01<00:00,  4.94it/s]\n",
      "/Users/msgarcia/Desktop/School/proyecto_2/nyc-taxi-predictions-2025/.venv/lib/python3.11/site-packages/mlflow/xgboost/__init__.py:321: UserWarning: [20:41:56] WARNING: /Users/runner/work/xgboost/xgboost/src/c_api/c_api.cc:1511: Unknown file format: `xgb`. Using UBJSON (`ubj`) as a guess.\n",
      "  model.load_model(xgb_model_path)\n",
      "Downloading artifacts: 100%|██████████| 8/8 [00:01<00:00,  6.40it/s]\n"
     ]
    },
    {
     "name": "stdout",
     "output_type": "stream",
     "text": [
      "[P2-F-_CHAMP] RMSE marzo 2025 - Champion : 13.2010\n",
      "[P2-F-_CHAL ] RMSE marzo 2025 - Challenger: 6.1863\n"
     ]
    }
   ],
   "source": [
    "# --- Evaluación en marzo 2025 de Champion vs Challenger ---\n",
    "df_mar = read_dataframe(\"../data/green_tripdata_2025-03.parquet\")\n",
    "\n",
    "with open(\"preprocessor/dv.pkl\", \"rb\") as f_in:\n",
    "    dv_loaded = pickle.load(f_in)\n",
    "\n",
    "X_mar = preprocess(df_mar, dv_loaded)\n",
    "y_mar = df_mar['duration'].values\n",
    "\n",
    "feature_names = [f\"f{i}\" for i in range(X_mar.shape[1])]\n",
    "X_mar_df = pd.DataFrame(X_mar.toarray(), columns=feature_names)\n",
    "\n",
    "champion_uri   = f\"models:/{model_name}@Champion\"\n",
    "challenger_uri = f\"models:/{model_name}@challenger\"\n",
    "\n",
    "champion   = mlflow.pyfunc.load_model(champion_uri)\n",
    "challenger = mlflow.pyfunc.load_model(challenger_uri)\n",
    "\n",
    "y_pred_champion   = champion.predict(X_mar_df)\n",
    "y_pred_challenger = challenger.predict(X_mar_df)\n",
    "\n",
    "rmse_champion   = root_mean_squared_error(y_mar, y_pred_champion)\n",
    "rmse_challenger = root_mean_squared_error(y_mar, y_pred_challenger)\n",
    "\n",
    "print(f\"[{HW_PREFIX}_CHAMP] RMSE marzo 2025 - Champion : {rmse_champion:.4f}\")\n",
    "print(f\"[{HW_PREFIX}_CHAL ] RMSE marzo 2025 - Challenger: {rmse_challenger:.4f}\")\n"
   ]
  },
  {
   "cell_type": "markdown",
   "id": "937fa6ab",
   "metadata": {},
   "source": [
    "### Decida promoción y justifique, tags de la tarea"
   ]
  },
  {
   "cell_type": "code",
   "execution_count": null,
   "id": "5af80882",
   "metadata": {},
   "outputs": [
    {
     "name": "stdout",
     "output_type": "stream",
     "text": [
      "[P2-F-] Mejora relativa Challenger vs Champion en marzo: 53.14%\n",
      "[P2-F-] Guardrails OK: True\n",
      "[P2-F-] DECISIÓN: PROMOVER\n",
      "Challenger reduce RMSE marzo en 53.14% (umbral 0.50%). | La validación previa no sugiere sobreajuste extremo.\n",
      "[P2-F-] Alias 'Champion' -> versión 11 (ex 'challenger').\n"
     ]
    }
   ],
   "source": [
    "# --- Decisión de promoción con umbral simple Tarea P2 ---\n",
    "IMPROVEMENT_THRESHOLD = 0.005  # 0.5% mejora mínima\n",
    "guardrail_ok = True\n",
    "\n",
    "improvement = (rmse_champion - rmse_challenger) / rmse_champion\n",
    "print(f\"[{HW_PREFIX}] Mejora relativa Challenger vs Champion en marzo: {improvement*100:.2f}%\")\n",
    "print(f\"[{HW_PREFIX}] Guardrails OK: {guardrail_ok}\")\n",
    "\n",
    "decision = \"PROMOVER\" if (improvement >= IMPROVEMENT_THRESHOLD and guardrail_ok) else \"NO PROMOVER\"\n",
    "print(f\"[{HW_PREFIX}] DECISIÓN: {decision}\")\n",
    "\n",
    "justificacion = []\n",
    "if decision == \"PROMOVER\":\n",
    "    justificacion.append(f\"Challenger reduce RMSE marzo en {improvement*100:.2f}% (umbral {IMPROVEMENT_THRESHOLD*100:.2f}%).\")\n",
    "    justificacion.append(\"La validación previa no sugiere sobreajuste extremo.\")\n",
    "else:\n",
    "    if improvement < IMPROVEMENT_THRESHOLD:\n",
    "        justificacion.append(f\"Mejora insuficiente: {improvement*100:.2f}% < {IMPROVEMENT_THRESHOLD*100:.2f}%.\")\n",
    "    if not guardrail_ok:\n",
    "        justificacion.append(\"Algún guardrail operativo/ético falló.\")\n",
    "print(\" | \".join(justificacion))\n",
    "\n",
    "# --- Promoción automática a Champion si aplica ---\n",
    "if decision == \"PROMOVER\":\n",
    "    client = MlflowClient()\n",
    "    mv = client.get_model_version_by_alias(name=model_name, alias=\"challenger\")\n",
    "    challenger_version = mv.version\n",
    "\n",
    "    client.set_registered_model_alias(\n",
    "        name=model_name,\n",
    "        alias=\"Champion\",\n",
    "        version=challenger_version\n",
    "    )\n",
    "    # Nota en la versión:\n",
    "    client.update_model_version(\n",
    "        name=model_name,\n",
    "        version=challenger_version,\n",
    "        description=f\"[{HW_PREFIX}_PROMOTED]->Champion | Mejora {improvement*100:.2f}% en RMSE marzo\"\n",
    "    )\n",
    "    print(f\"[{HW_PREFIX}] Alias 'Champion' -> versión {challenger_version} (ex 'challenger').\")\n",
    "else:\n",
    "    print(f\"[{HW_PREFIX}] Se mantiene el Champion actual.\")\n"
   ]
  },
  {
   "cell_type": "markdown",
   "id": "33e04f66",
   "metadata": {},
   "source": [
    "Todos los modelos finales de esta tarea tienen el prefijo de P2-F"
   ]
  }
 ],
 "metadata": {
  "kernelspec": {
   "display_name": "nyc-taxi-predictions-2025",
   "language": "python",
   "name": "python3"
  },
  "language_info": {
   "codemirror_mode": {
    "name": "ipython",
    "version": 3
   },
   "file_extension": ".py",
   "mimetype": "text/x-python",
   "name": "python",
   "nbconvert_exporter": "python",
   "pygments_lexer": "ipython3",
   "version": "3.11.13"
  }
 },
 "nbformat": 4,
 "nbformat_minor": 5
}
